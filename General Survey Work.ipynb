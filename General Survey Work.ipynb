{
 "cells": [
  {
   "cell_type": "markdown",
   "metadata": {},
   "source": [
    "## General Social Survey\n",
    "\n",
    "This Jupyter Notebook is going to be filled with some visualizations using data retrieved from the General Social Survey (http://www.gss.norc.org/). With his notebook my goal was to try to find some interesting patterns and create interesting visualizations. For the most part I will be looking at \"job\" related data. "
   ]
  },
  {
   "cell_type": "code",
   "execution_count": 1,
   "metadata": {},
   "outputs": [],
   "source": [
    "import pandas as pd\n",
    "import seaborn as sns\n",
    "import matplotlib.pyplot as plt\n",
    "\n",
    "%matplotlib inline "
   ]
  },
  {
   "cell_type": "code",
   "execution_count": null,
   "metadata": {},
   "outputs": [],
   "source": []
  },
  {
   "cell_type": "code",
   "execution_count": 2,
   "metadata": {},
   "outputs": [],
   "source": [
    "gss = pd.read_spss(\"GSS2018.sav\")"
   ]
  },
  {
   "cell_type": "code",
   "execution_count": 3,
   "metadata": {},
   "outputs": [
    {
     "data": {
      "text/html": [
       "<div>\n",
       "<style scoped>\n",
       "    .dataframe tbody tr th:only-of-type {\n",
       "        vertical-align: middle;\n",
       "    }\n",
       "\n",
       "    .dataframe tbody tr th {\n",
       "        vertical-align: top;\n",
       "    }\n",
       "\n",
       "    .dataframe thead th {\n",
       "        text-align: right;\n",
       "    }\n",
       "</style>\n",
       "<table border=\"1\" class=\"dataframe\">\n",
       "  <thead>\n",
       "    <tr style=\"text-align: right;\">\n",
       "      <th></th>\n",
       "      <th>ABANY</th>\n",
       "      <th>ABDEFECT</th>\n",
       "      <th>ABFELEGL</th>\n",
       "      <th>ABHELP1</th>\n",
       "      <th>ABHELP2</th>\n",
       "      <th>ABHELP3</th>\n",
       "      <th>ABHELP4</th>\n",
       "      <th>ABHLTH</th>\n",
       "      <th>ABINSPAY</th>\n",
       "      <th>ABMEDGOV1</th>\n",
       "      <th>...</th>\n",
       "      <th>XMARSEX</th>\n",
       "      <th>XMARSEX1</th>\n",
       "      <th>XMOVIE</th>\n",
       "      <th>XNORCSIZ</th>\n",
       "      <th>YEAR</th>\n",
       "      <th>YEARSJOB</th>\n",
       "      <th>YEARSUSA</th>\n",
       "      <th>YEARVAL</th>\n",
       "      <th>YOUSUP</th>\n",
       "      <th>ZODIAC</th>\n",
       "    </tr>\n",
       "  </thead>\n",
       "  <tbody>\n",
       "    <tr>\n",
       "      <th>0</th>\n",
       "      <td>NO</td>\n",
       "      <td>YES</td>\n",
       "      <td>NaN</td>\n",
       "      <td>Yes</td>\n",
       "      <td>Yes</td>\n",
       "      <td>Yes</td>\n",
       "      <td>Yes</td>\n",
       "      <td>YES</td>\n",
       "      <td>People should be able</td>\n",
       "      <td>The government should decide</td>\n",
       "      <td>...</td>\n",
       "      <td>ALWAYS WRONG</td>\n",
       "      <td>ALWAYS WRONG</td>\n",
       "      <td>NaN</td>\n",
       "      <td>UNINC,MED CITY</td>\n",
       "      <td>2018.0</td>\n",
       "      <td>1</td>\n",
       "      <td>NaN</td>\n",
       "      <td>NaN</td>\n",
       "      <td>45.0</td>\n",
       "      <td>VIRGO</td>\n",
       "    </tr>\n",
       "    <tr>\n",
       "      <th>1</th>\n",
       "      <td>YES</td>\n",
       "      <td>YES</td>\n",
       "      <td>It depends</td>\n",
       "      <td>No</td>\n",
       "      <td>No</td>\n",
       "      <td>No</td>\n",
       "      <td>No</td>\n",
       "      <td>YES</td>\n",
       "      <td>People should not be able</td>\n",
       "      <td>NaN</td>\n",
       "      <td>...</td>\n",
       "      <td>ALWAYS WRONG</td>\n",
       "      <td>NaN</td>\n",
       "      <td>NO</td>\n",
       "      <td>UNINC,MED CITY</td>\n",
       "      <td>2018.0</td>\n",
       "      <td>NaN</td>\n",
       "      <td>NaN</td>\n",
       "      <td>NaN</td>\n",
       "      <td>NaN</td>\n",
       "      <td>AQUARIUS</td>\n",
       "    </tr>\n",
       "    <tr>\n",
       "      <th>2</th>\n",
       "      <td>NaN</td>\n",
       "      <td>NaN</td>\n",
       "      <td>NaN</td>\n",
       "      <td>Yes</td>\n",
       "      <td>No</td>\n",
       "      <td>Yes</td>\n",
       "      <td>Yes</td>\n",
       "      <td>NaN</td>\n",
       "      <td>People should not be able</td>\n",
       "      <td>A woman and her medical professional should de...</td>\n",
       "      <td>...</td>\n",
       "      <td>NaN</td>\n",
       "      <td>ALWAYS WRONG</td>\n",
       "      <td>NO</td>\n",
       "      <td>UNINC,MED CITY</td>\n",
       "      <td>2018.0</td>\n",
       "      <td>15</td>\n",
       "      <td>NaN</td>\n",
       "      <td>NaN</td>\n",
       "      <td>3.0</td>\n",
       "      <td>ARIES</td>\n",
       "    </tr>\n",
       "    <tr>\n",
       "      <th>3</th>\n",
       "      <td>NaN</td>\n",
       "      <td>NaN</td>\n",
       "      <td>Should</td>\n",
       "      <td>Yes</td>\n",
       "      <td>Yes</td>\n",
       "      <td>Yes</td>\n",
       "      <td>Yes</td>\n",
       "      <td>NaN</td>\n",
       "      <td>People should be able</td>\n",
       "      <td>NaN</td>\n",
       "      <td>...</td>\n",
       "      <td>NaN</td>\n",
       "      <td>NaN</td>\n",
       "      <td>NO</td>\n",
       "      <td>UNINC,MED CITY</td>\n",
       "      <td>2018.0</td>\n",
       "      <td>25</td>\n",
       "      <td>NaN</td>\n",
       "      <td>NaN</td>\n",
       "      <td>10.0</td>\n",
       "      <td>ARIES</td>\n",
       "    </tr>\n",
       "    <tr>\n",
       "      <th>4</th>\n",
       "      <td>NO</td>\n",
       "      <td>YES</td>\n",
       "      <td>NaN</td>\n",
       "      <td>No</td>\n",
       "      <td>No</td>\n",
       "      <td>No</td>\n",
       "      <td>Yes</td>\n",
       "      <td>YES</td>\n",
       "      <td>People should not be able</td>\n",
       "      <td>NaN</td>\n",
       "      <td>...</td>\n",
       "      <td>ALWAYS WRONG</td>\n",
       "      <td>NaN</td>\n",
       "      <td>NO</td>\n",
       "      <td>UNINC,MED CITY</td>\n",
       "      <td>2018.0</td>\n",
       "      <td>NaN</td>\n",
       "      <td>NaN</td>\n",
       "      <td>NaN</td>\n",
       "      <td>NaN</td>\n",
       "      <td>CANCER</td>\n",
       "    </tr>\n",
       "    <tr>\n",
       "      <th>5</th>\n",
       "      <td>YES</td>\n",
       "      <td>YES</td>\n",
       "      <td>Should</td>\n",
       "      <td>Yes</td>\n",
       "      <td>Yes</td>\n",
       "      <td>Yes</td>\n",
       "      <td>Yes</td>\n",
       "      <td>YES</td>\n",
       "      <td>People should be able</td>\n",
       "      <td>NaN</td>\n",
       "      <td>...</td>\n",
       "      <td>ALMST ALWAYS WRG</td>\n",
       "      <td>ALMOST ALWAYS WRONG</td>\n",
       "      <td>NaN</td>\n",
       "      <td>UNINC,MED CITY</td>\n",
       "      <td>2018.0</td>\n",
       "      <td>NaN</td>\n",
       "      <td>NaN</td>\n",
       "      <td>NaN</td>\n",
       "      <td>NaN</td>\n",
       "      <td>SCORPIO</td>\n",
       "    </tr>\n",
       "    <tr>\n",
       "      <th>6</th>\n",
       "      <td>YES</td>\n",
       "      <td>YES</td>\n",
       "      <td>It depends</td>\n",
       "      <td>Yes</td>\n",
       "      <td>No</td>\n",
       "      <td>Yes</td>\n",
       "      <td>Yes</td>\n",
       "      <td>YES</td>\n",
       "      <td>People should be able</td>\n",
       "      <td>NaN</td>\n",
       "      <td>...</td>\n",
       "      <td>ALWAYS WRONG</td>\n",
       "      <td>NaN</td>\n",
       "      <td>NO</td>\n",
       "      <td>CITY,50-250000</td>\n",
       "      <td>2018.0</td>\n",
       "      <td>2</td>\n",
       "      <td>NaN</td>\n",
       "      <td>NaN</td>\n",
       "      <td>NaN</td>\n",
       "      <td>LEO</td>\n",
       "    </tr>\n",
       "    <tr>\n",
       "      <th>7</th>\n",
       "      <td>NO</td>\n",
       "      <td>YES</td>\n",
       "      <td>NaN</td>\n",
       "      <td>Yes</td>\n",
       "      <td>No</td>\n",
       "      <td>Yes</td>\n",
       "      <td>Yes</td>\n",
       "      <td>YES</td>\n",
       "      <td>NaN</td>\n",
       "      <td>A woman and her medical professional should de...</td>\n",
       "      <td>...</td>\n",
       "      <td>ALWAYS WRONG</td>\n",
       "      <td>NaN</td>\n",
       "      <td>NO</td>\n",
       "      <td>CITY,50-250000</td>\n",
       "      <td>2018.0</td>\n",
       "      <td>5</td>\n",
       "      <td>NaN</td>\n",
       "      <td>NaN</td>\n",
       "      <td>14.0</td>\n",
       "      <td>PISCES</td>\n",
       "    </tr>\n",
       "    <tr>\n",
       "      <th>8</th>\n",
       "      <td>NaN</td>\n",
       "      <td>NaN</td>\n",
       "      <td>It depends</td>\n",
       "      <td>Yes</td>\n",
       "      <td>Yes</td>\n",
       "      <td>Yes</td>\n",
       "      <td>Yes</td>\n",
       "      <td>NaN</td>\n",
       "      <td>People should be able</td>\n",
       "      <td>A woman and her medical professional should de...</td>\n",
       "      <td>...</td>\n",
       "      <td>NaN</td>\n",
       "      <td>ALWAYS WRONG</td>\n",
       "      <td>NO</td>\n",
       "      <td>CITY,50-250000</td>\n",
       "      <td>2018.0</td>\n",
       "      <td>6-11.9 MONTHS</td>\n",
       "      <td>NaN</td>\n",
       "      <td>NaN</td>\n",
       "      <td>NaN</td>\n",
       "      <td>NaN</td>\n",
       "    </tr>\n",
       "    <tr>\n",
       "      <th>9</th>\n",
       "      <td>NaN</td>\n",
       "      <td>NaN</td>\n",
       "      <td>NaN</td>\n",
       "      <td>Yes</td>\n",
       "      <td>No</td>\n",
       "      <td>No</td>\n",
       "      <td>Yes</td>\n",
       "      <td>NaN</td>\n",
       "      <td>People should not be able</td>\n",
       "      <td>NaN</td>\n",
       "      <td>...</td>\n",
       "      <td>NaN</td>\n",
       "      <td>NaN</td>\n",
       "      <td>NO</td>\n",
       "      <td>SUBURB, MED CITY</td>\n",
       "      <td>2018.0</td>\n",
       "      <td>11</td>\n",
       "      <td>NaN</td>\n",
       "      <td>NaN</td>\n",
       "      <td>NaN</td>\n",
       "      <td>SCORPIO</td>\n",
       "    </tr>\n",
       "  </tbody>\n",
       "</table>\n",
       "<p>10 rows × 1065 columns</p>\n",
       "</div>"
      ],
      "text/plain": [
       "  ABANY ABDEFECT    ABFELEGL ABHELP1 ABHELP2 ABHELP3 ABHELP4 ABHLTH  \\\n",
       "0    NO      YES         NaN     Yes     Yes     Yes     Yes    YES   \n",
       "1   YES      YES  It depends      No      No      No      No    YES   \n",
       "2   NaN      NaN         NaN     Yes      No     Yes     Yes    NaN   \n",
       "3   NaN      NaN      Should     Yes     Yes     Yes     Yes    NaN   \n",
       "4    NO      YES         NaN      No      No      No     Yes    YES   \n",
       "5   YES      YES      Should     Yes     Yes     Yes     Yes    YES   \n",
       "6   YES      YES  It depends     Yes      No     Yes     Yes    YES   \n",
       "7    NO      YES         NaN     Yes      No     Yes     Yes    YES   \n",
       "8   NaN      NaN  It depends     Yes     Yes     Yes     Yes    NaN   \n",
       "9   NaN      NaN         NaN     Yes      No      No     Yes    NaN   \n",
       "\n",
       "                    ABINSPAY  \\\n",
       "0      People should be able   \n",
       "1  People should not be able   \n",
       "2  People should not be able   \n",
       "3      People should be able   \n",
       "4  People should not be able   \n",
       "5      People should be able   \n",
       "6      People should be able   \n",
       "7                        NaN   \n",
       "8      People should be able   \n",
       "9  People should not be able   \n",
       "\n",
       "                                           ABMEDGOV1  ...           XMARSEX  \\\n",
       "0                       The government should decide  ...      ALWAYS WRONG   \n",
       "1                                                NaN  ...      ALWAYS WRONG   \n",
       "2  A woman and her medical professional should de...  ...               NaN   \n",
       "3                                                NaN  ...               NaN   \n",
       "4                                                NaN  ...      ALWAYS WRONG   \n",
       "5                                                NaN  ...  ALMST ALWAYS WRG   \n",
       "6                                                NaN  ...      ALWAYS WRONG   \n",
       "7  A woman and her medical professional should de...  ...      ALWAYS WRONG   \n",
       "8  A woman and her medical professional should de...  ...               NaN   \n",
       "9                                                NaN  ...               NaN   \n",
       "\n",
       "              XMARSEX1 XMOVIE          XNORCSIZ    YEAR       YEARSJOB  \\\n",
       "0         ALWAYS WRONG    NaN    UNINC,MED CITY  2018.0              1   \n",
       "1                  NaN     NO    UNINC,MED CITY  2018.0            NaN   \n",
       "2         ALWAYS WRONG     NO    UNINC,MED CITY  2018.0             15   \n",
       "3                  NaN     NO    UNINC,MED CITY  2018.0             25   \n",
       "4                  NaN     NO    UNINC,MED CITY  2018.0            NaN   \n",
       "5  ALMOST ALWAYS WRONG    NaN    UNINC,MED CITY  2018.0            NaN   \n",
       "6                  NaN     NO    CITY,50-250000  2018.0              2   \n",
       "7                  NaN     NO    CITY,50-250000  2018.0              5   \n",
       "8         ALWAYS WRONG     NO    CITY,50-250000  2018.0  6-11.9 MONTHS   \n",
       "9                  NaN     NO  SUBURB, MED CITY  2018.0             11   \n",
       "\n",
       "  YEARSUSA YEARVAL YOUSUP    ZODIAC  \n",
       "0      NaN     NaN   45.0     VIRGO  \n",
       "1      NaN     NaN    NaN  AQUARIUS  \n",
       "2      NaN     NaN    3.0     ARIES  \n",
       "3      NaN     NaN   10.0     ARIES  \n",
       "4      NaN     NaN    NaN    CANCER  \n",
       "5      NaN     NaN    NaN   SCORPIO  \n",
       "6      NaN     NaN    NaN       LEO  \n",
       "7      NaN     NaN   14.0    PISCES  \n",
       "8      NaN     NaN    NaN       NaN  \n",
       "9      NaN     NaN    NaN   SCORPIO  \n",
       "\n",
       "[10 rows x 1065 columns]"
      ]
     },
     "execution_count": 3,
     "metadata": {},
     "output_type": "execute_result"
    }
   ],
   "source": [
    "gss.head(10)"
   ]
  },
  {
   "cell_type": "code",
   "execution_count": 4,
   "metadata": {},
   "outputs": [
    {
     "data": {
      "text/plain": [
       "<AxesSubplot:xlabel='JOBSECOK', ylabel='count'>"
      ]
     },
     "execution_count": 4,
     "metadata": {},
     "output_type": "execute_result"
    },
    {
     "data": {
      "image/png": "[encoded data removed]",
      "text/plain": [
       "<Figure size 432x288 with 1 Axes>"
      ]
     },
     "metadata": {
      "needs_background": "light"
     },
     "output_type": "display_data"
    }
   ],
   "source": [
    "sns.countplot(gss['JOBSECOK'],palette=\"deep\")\n",
    "\n",
    "\n",
    "\n"
   ]
  },
  {
   "cell_type": "code",
   "execution_count": 14,
   "metadata": {},
   "outputs": [
    {
     "name": "stdout",
     "output_type": "stream",
     "text": [
      "Percent True for Somewhat true: 0.29323843416370104\n",
      "Percent True for nan: 0.0\n",
      "Percent True for Very true: 0.6113879003558719\n",
      "Percent True for Not at all true: 0.03202846975088968\n",
      "Percent True for Not too true: 0.06334519572953737\n"
     ]
    }
   ],
   "source": [
    "for x in gss['JOBSECOK'].unique():\n",
    "    percentage = gss['JOBSECOK'][gss['JOBSECOK'] == x].count() / gss['JOBSECOK'].count()\n",
    "    print(\"Percent True for {}: {}\".format(x ,percentage))"
   ]
  },
  {
   "cell_type": "code",
   "execution_count": 28,
   "metadata": {},
   "outputs": [
    {
     "data": {
      "text/html": [
       "<div>\n",
       "<style scoped>\n",
       "    .dataframe tbody tr th:only-of-type {\n",
       "        vertical-align: middle;\n",
       "    }\n",
       "\n",
       "    .dataframe tbody tr th {\n",
       "        vertical-align: top;\n",
       "    }\n",
       "\n",
       "    .dataframe thead th {\n",
       "        text-align: right;\n",
       "    }\n",
       "</style>\n",
       "<table border=\"1\" class=\"dataframe\">\n",
       "  <thead>\n",
       "    <tr style=\"text-align: right;\">\n",
       "      <th></th>\n",
       "      <th>JOBSECOK</th>\n",
       "    </tr>\n",
       "  </thead>\n",
       "  <tbody>\n",
       "    <tr>\n",
       "      <th>0</th>\n",
       "      <td>Somewhat true</td>\n",
       "    </tr>\n",
       "    <tr>\n",
       "      <th>1</th>\n",
       "      <td>NaN</td>\n",
       "    </tr>\n",
       "    <tr>\n",
       "      <th>2</th>\n",
       "      <td>Somewhat true</td>\n",
       "    </tr>\n",
       "    <tr>\n",
       "      <th>3</th>\n",
       "      <td>Very true</td>\n",
       "    </tr>\n",
       "    <tr>\n",
       "      <th>4</th>\n",
       "      <td>NaN</td>\n",
       "    </tr>\n",
       "    <tr>\n",
       "      <th>...</th>\n",
       "      <td>...</td>\n",
       "    </tr>\n",
       "    <tr>\n",
       "      <th>2343</th>\n",
       "      <td>Very true</td>\n",
       "    </tr>\n",
       "    <tr>\n",
       "      <th>2344</th>\n",
       "      <td>Very true</td>\n",
       "    </tr>\n",
       "    <tr>\n",
       "      <th>2345</th>\n",
       "      <td>NaN</td>\n",
       "    </tr>\n",
       "    <tr>\n",
       "      <th>2346</th>\n",
       "      <td>NaN</td>\n",
       "    </tr>\n",
       "    <tr>\n",
       "      <th>2347</th>\n",
       "      <td>NaN</td>\n",
       "    </tr>\n",
       "  </tbody>\n",
       "</table>\n",
       "<p>2348 rows × 1 columns</p>\n",
       "</div>"
      ],
      "text/plain": [
       "           JOBSECOK\n",
       "0     Somewhat true\n",
       "1               NaN\n",
       "2     Somewhat true\n",
       "3         Very true\n",
       "4               NaN\n",
       "...             ...\n",
       "2343      Very true\n",
       "2344      Very true\n",
       "2345            NaN\n",
       "2346            NaN\n",
       "2347            NaN\n",
       "\n",
       "[2348 rows x 1 columns]"
      ]
     },
     "execution_count": 28,
     "metadata": {},
     "output_type": "execute_result"
    }
   ],
   "source": [
    "gss['JOBSECOK']"
   ]
  },
  {
   "cell_type": "code",
   "execution_count": 27,
   "metadata": {},
   "outputs": [],
   "source": [
    "df = gss['JOBSECOK'].dropna()"
   ]
  },
  {
   "cell_type": "code",
   "execution_count": 35,
   "metadata": {},
   "outputs": [],
   "source": [
    "\n",
    "\n",
    "def percoftot(data,series,hue = False , remove_nan = True, giveData = True):\n",
    "# A quick way to find the percentages of each unique option in categorical data.\n",
    "\n",
    "#For example given a choice of 3 colors, red blue and green. We can find the percentages of how many chose each individual color.\n",
    "\n",
    "#With the \"hue\" option we could use the same theoretical data set as above, and find the percentages of boys/ girls that choose each individual color.\n",
    "\n",
    "# The remove nan option is there as NaN's are treated in unique ways in Panda Data Frames. Removing the NaN's is almost always preferred,well at least for this project it will be.\n",
    "\n",
    "# This will always return a dataframe. \n",
    "   \n",
    "    \n",
    "    if hue == False:\n",
    "        if remove_nan == True: \n",
    "            df = data[[series]].dropna()\n",
    "        for x in df[series].unique():\n",
    "            percentage = df[series][df[series] == x].count() / df[series].count()\n",
    "            print(\"Percent True for {}: {}\".format(x ,percentage))\n",
    "            \n",
    "    else:\n",
    "        if remove_nan == True: \n",
    "            df = data[[series,hue]].dropna()\n",
    "        for y in data[hue].unique():\n",
    "            for x in data[series].unique():\n",
    "                #percentage = data[series][(data[series] == x) & (data[series] == y)].count() /data[series][data[series] == y].count() \n",
    "                #print(\"Percentage True for {} and {} :{}\".format(x,y,percentage))\n",
    "                # percentage of y what that are x \n",
    "                \n",
    "                #print(data[series][(data[series] == x) & (data[hue] == y)].count())\n",
    "                #print(data[data[hue]==y])\n",
    "                #print(x,y)\n",
    "                shcount = df[series][(df[series] == x) & (df[hue] == y)].count()\n",
    "                hcount = df[hue][df[hue] ==y].count()\n",
    "                percentage =  df[series][(df[series] == x) & (df[hue] == y)].count()/ df[hue][df[hue] ==y].count()\n",
    "                print(\"Percent True for {} in {}: {} / {} = {}\".format(x,y,shcount, hcount,percentage))\n",
    "                "
   ]
  },
  {
   "cell_type": "code",
   "execution_count": 40,
   "metadata": {},
   "outputs": [
    {
     "name": "stdout",
     "output_type": "stream",
     "text": [
      "Percent True for Somewhat true: 0.29323843416370104\n",
      "Percent True for Very true: 0.6113879003558719\n",
      "Percent True for Not at all true: 0.03202846975088968\n",
      "Percent True for Not too true: 0.06334519572953737\n"
     ]
    }
   ],
   "source": [
    "percoftot(gss,'JOBSECOK')\n",
    "\n",
    "\n"
   ]
  },
  {
   "cell_type": "code",
   "execution_count": 41,
   "metadata": {},
   "outputs": [
    {
     "name": "stdout",
     "output_type": "stream",
     "text": [
      "Percent True for Somewhat true in WHITE: 281 / 1001 = 0.2807192807192807\n",
      "Percent True for nan in WHITE: 0 / 1001 = 0.0\n",
      "Percent True for Very true in WHITE: 627 / 1001 = 0.6263736263736264\n",
      "Percent True for Not at all true in WHITE: 34 / 1001 = 0.03396603396603397\n",
      "Percent True for Not too true in WHITE: 59 / 1001 = 0.058941058941058944\n",
      "Percent True for Somewhat true in BLACK: 81 / 231 = 0.35064935064935066\n",
      "Percent True for nan in BLACK: 0 / 231 = 0.0\n",
      "Percent True for Very true in BLACK: 124 / 231 = 0.5367965367965368\n",
      "Percent True for Not at all true in BLACK: 7 / 231 = 0.030303030303030304\n",
      "Percent True for Not too true in BLACK: 19 / 231 = 0.08225108225108226\n",
      "Percent True for Somewhat true in OTHER: 50 / 173 = 0.28901734104046245\n",
      "Percent True for nan in OTHER: 0 / 173 = 0.0\n",
      "Percent True for Very true in OTHER: 108 / 173 = 0.6242774566473989\n",
      "Percent True for Not at all true in OTHER: 4 / 173 = 0.023121387283236993\n",
      "Percent True for Not too true in OTHER: 11 / 173 = 0.06358381502890173\n"
     ]
    }
   ],
   "source": [
    "percoftot(gss,'JOBSECOK','RACE')"
   ]
  },
  {
   "cell_type": "code",
   "execution_count": 42,
   "metadata": {},
   "outputs": [
    {
     "data": {
      "text/html": [
       "<div>\n",
       "<style scoped>\n",
       "    .dataframe tbody tr th:only-of-type {\n",
       "        vertical-align: middle;\n",
       "    }\n",
       "\n",
       "    .dataframe tbody tr th {\n",
       "        vertical-align: top;\n",
       "    }\n",
       "\n",
       "    .dataframe thead th {\n",
       "        text-align: right;\n",
       "    }\n",
       "</style>\n",
       "<table border=\"1\" class=\"dataframe\">\n",
       "  <thead>\n",
       "    <tr style=\"text-align: right;\">\n",
       "      <th></th>\n",
       "      <th>RACE</th>\n",
       "      <th>JOBSECOK</th>\n",
       "    </tr>\n",
       "  </thead>\n",
       "  <tbody>\n",
       "    <tr>\n",
       "      <th>0</th>\n",
       "      <td>WHITE</td>\n",
       "      <td>Somewhat true</td>\n",
       "    </tr>\n",
       "    <tr>\n",
       "      <th>1</th>\n",
       "      <td>WHITE</td>\n",
       "      <td>NaN</td>\n",
       "    </tr>\n",
       "    <tr>\n",
       "      <th>2</th>\n",
       "      <td>WHITE</td>\n",
       "      <td>Somewhat true</td>\n",
       "    </tr>\n",
       "    <tr>\n",
       "      <th>3</th>\n",
       "      <td>WHITE</td>\n",
       "      <td>Very true</td>\n",
       "    </tr>\n",
       "    <tr>\n",
       "      <th>4</th>\n",
       "      <td>BLACK</td>\n",
       "      <td>NaN</td>\n",
       "    </tr>\n",
       "    <tr>\n",
       "      <th>...</th>\n",
       "      <td>...</td>\n",
       "      <td>...</td>\n",
       "    </tr>\n",
       "    <tr>\n",
       "      <th>2343</th>\n",
       "      <td>WHITE</td>\n",
       "      <td>Very true</td>\n",
       "    </tr>\n",
       "    <tr>\n",
       "      <th>2344</th>\n",
       "      <td>WHITE</td>\n",
       "      <td>Very true</td>\n",
       "    </tr>\n",
       "    <tr>\n",
       "      <th>2345</th>\n",
       "      <td>WHITE</td>\n",
       "      <td>NaN</td>\n",
       "    </tr>\n",
       "    <tr>\n",
       "      <th>2346</th>\n",
       "      <td>WHITE</td>\n",
       "      <td>NaN</td>\n",
       "    </tr>\n",
       "    <tr>\n",
       "      <th>2347</th>\n",
       "      <td>WHITE</td>\n",
       "      <td>NaN</td>\n",
       "    </tr>\n",
       "  </tbody>\n",
       "</table>\n",
       "<p>2348 rows × 2 columns</p>\n",
       "</div>"
      ],
      "text/plain": [
       "       RACE       JOBSECOK\n",
       "0     WHITE  Somewhat true\n",
       "1     WHITE            NaN\n",
       "2     WHITE  Somewhat true\n",
       "3     WHITE      Very true\n",
       "4     BLACK            NaN\n",
       "...     ...            ...\n",
       "2343  WHITE      Very true\n",
       "2344  WHITE      Very true\n",
       "2345  WHITE            NaN\n",
       "2346  WHITE            NaN\n",
       "2347  WHITE            NaN\n",
       "\n",
       "[2348 rows x 2 columns]"
      ]
     },
     "execution_count": 42,
     "metadata": {},
     "output_type": "execute_result"
    }
   ],
   "source": []
  },
  {
   "cell_type": "code",
   "execution_count": 7,
   "metadata": {},
   "outputs": [
    {
     "data": {
      "text/plain": [
       "<AxesSubplot:xlabel='JOBSECOK', ylabel='count'>"
      ]
     },
     "execution_count": 7,
     "metadata": {},
     "output_type": "execute_result"
    },
    {
     "data": {
      "image/png": "[encoded data removed]",
      "text/plain": [
       "<Figure size 432x288 with 1 Axes>"
      ]
     },
     "metadata": {
      "needs_background": "light"
     },
     "output_type": "display_data"
    }
   ],
   "source": [
    "sns.countplot(gss['JOBSECOK'], hue = gss[\"RACE\"])"
   ]
  },
  {
   "cell_type": "code",
   "execution_count": null,
   "metadata": {},
   "outputs": [],
   "source": []
  },
  {
   "cell_type": "code",
   "execution_count": 9,
   "metadata": {},
   "outputs": [
    {
     "data": {
      "text/plain": [
       "<AxesSubplot:xlabel='JOBSECOK', ylabel='count'>"
      ]
     },
     "execution_count": 9,
     "metadata": {},
     "output_type": "execute_result"
    },
    {
     "data": {
      "image/png": "[encoded data removed]",
      "text/plain": [
       "<Figure size 432x288 with 1 Axes>"
      ]
     },
     "metadata": {
      "needs_background": "light"
     },
     "output_type": "display_data"
    }
   ],
   "source": [
    "sns.countplot(gss['JOBSECOK'], hue = gss[\"SEX\"])"
   ]
  },
  {
   "cell_type": "code",
   "execution_count": 63,
   "metadata": {},
   "outputs": [
    {
     "name": "stdout",
     "output_type": "stream",
     "text": [
      "Percent True for Somewhat true in MALE: 0.19961977186311788\n",
      "Percent True for Somewhat true in FEMALE: 0.1558641975308642\n",
      "Percent True for nan in MALE: 0.0\n",
      "Percent True for nan in FEMALE: 0.0\n",
      "Percent True for Very true in MALE: 0.3935361216730038\n",
      "Percent True for Very true in FEMALE: 0.3433641975308642\n",
      "Percent True for Not at all true in MALE: 0.019011406844106463\n",
      "Percent True for Not at all true in FEMALE: 0.019290123456790122\n",
      "Percent True for Not too true in MALE: 0.03136882129277566\n",
      "Percent True for Not too true in FEMALE: 0.043209876543209874\n"
     ]
    },
    {
     "data": {
      "text/plain": [
       "0.6435361216730038"
      ]
     },
     "execution_count": 63,
     "metadata": {},
     "output_type": "execute_result"
    },
    {
     "data": {
      "image/png": "[encoded data removed]",
      "text/plain": [
       "<Figure size 432x288 with 1 Axes>"
      ]
     },
     "metadata": {
      "needs_background": "light"
     },
     "output_type": "display_data"
    }
   ],
   "source": [
    "sns.countplot(gss['SEX'], hue = gss[\"JOBSECOK\"])\n",
    "\n",
    "percoftot(gss,'JOBSECOK',\"SEX\")\n",
    "\n",
    "\n",
    "0.19961977186311788 + 0.3935361216730038 + 0.019011406844106463 + 0.03136882129277566\n"
   ]
  },
  {
   "cell_type": "code",
   "execution_count": 13,
   "metadata": {},
   "outputs": [
    {
     "data": {
      "text/plain": [
       "<seaborn.axisgrid.FacetGrid at 0x2905d8502c8>"
      ]
     },
     "execution_count": 13,
     "metadata": {},
     "output_type": "execute_result"
    },
    {
     "data": {
      "image/png": "[encoded data removed]",
      "text/plain": [
       "<Figure size 1192.12x360 with 3 Axes>"
      ]
     },
     "metadata": {
      "needs_background": "light"
     },
     "output_type": "display_data"
    }
   ],
   "source": [
    "sns.catplot(y = 'SEX', hue = \"JOBSECOK\", data = gss , col = \"RACE\", kind = \"count\")"
   ]
  },
  {
   "cell_type": "code",
   "execution_count": null,
   "metadata": {},
   "outputs": [],
   "source": []
  },
  {
   "cell_type": "code",
   "execution_count": 56,
   "metadata": {},
   "outputs": [
    {
     "data": {
      "text/plain": [
       "<seaborn.axisgrid.FacetGrid at 0x15ab8b8b788>"
      ]
     },
     "execution_count": 56,
     "metadata": {},
     "output_type": "execute_result"
    },
    {
     "data": {
      "image/png": "[encoded data removed]",
      "text/plain": [
       "<Figure size 1155.25x360 with 3 Axes>"
      ]
     },
     "metadata": {
      "needs_background": "light"
     },
     "output_type": "display_data"
    }
   ],
   "source": [
    "sns.catplot(y = 'JOBSECOK', hue = \"SEX\", data = gss , col = \"RACE\", kind = \"count\")"
   ]
  },
  {
   "cell_type": "code",
   "execution_count": 57,
   "metadata": {},
   "outputs": [
    {
     "data": {
      "text/plain": [
       "<seaborn.axisgrid.FacetGrid at 0x15ab8e36208>"
      ]
     },
     "execution_count": 57,
     "metadata": {},
     "output_type": "execute_result"
    },
    {
     "data": {
      "image/png": "[encoded data removed]",
      "text/plain": [
       "<Figure size 360x360 with 1 Axes>"
      ]
     },
     "metadata": {
      "needs_background": "light"
     },
     "output_type": "display_data"
    }
   ],
   "source": [
    "sns.catplot(x = \"WRKSLF\" , data = gss , kind = \"count\" )"
   ]
  },
  {
   "cell_type": "code",
   "execution_count": 58,
   "metadata": {},
   "outputs": [
    {
     "data": {
      "text/plain": [
       "<seaborn.axisgrid.FacetGrid at 0x15ab92cd908>"
      ]
     },
     "execution_count": 58,
     "metadata": {},
     "output_type": "execute_result"
    },
    {
     "data": {
      "image/png": "[encoded data removed]",
      "text/plain": [
       "<Figure size 435.25x360 with 1 Axes>"
      ]
     },
     "metadata": {
      "needs_background": "light"
     },
     "output_type": "display_data"
    }
   ],
   "source": [
    "sns.catplot(x = \"WRKSLF\" , data = gss , kind = \"count\" , hue = \"SEX\")"
   ]
  },
  {
   "cell_type": "code",
   "execution_count": 59,
   "metadata": {},
   "outputs": [
    {
     "data": {
      "text/plain": [
       "<seaborn.axisgrid.FacetGrid at 0x15ab8fb5fc8>"
      ]
     },
     "execution_count": 59,
     "metadata": {},
     "output_type": "execute_result"
    },
    {
     "data": {
      "image/png": "[encoded data removed]",
      "text/plain": [
       "<Figure size 430.375x360 with 1 Axes>"
      ]
     },
     "metadata": {
      "needs_background": "light"
     },
     "output_type": "display_data"
    }
   ],
   "source": [
    "sns.catplot(x = \"WRKSLF\" , data = gss , kind = \"count\" , hue = \"RACE\")"
   ]
  },
  {
   "cell_type": "code",
   "execution_count": 62,
   "metadata": {},
   "outputs": [
    {
     "data": {
      "text/plain": [
       "<seaborn.axisgrid.FacetGrid at 0x1851a1336c8>"
      ]
     },
     "execution_count": 62,
     "metadata": {},
     "output_type": "execute_result"
    },
    {
     "data": {
      "image/png": "[encoded data removed]",
      "text/plain": [
       "<Figure size 720x720 with 1 Axes>"
      ]
     },
     "metadata": {
      "needs_background": "light"
     },
     "output_type": "display_data"
    }
   ],
   "source": [
    "sns.catplot(x = \"ZODIAC\" , data = gss[gss['WRKSLF'] == \"SELF-EMPLOYED\"] , kind = \"count\", height = 10, palette = \"plasma\" ) \n",
    "\n",
    "#Shows which Zodiac Sign works for themselves the most...."
   ]
  },
  {
   "cell_type": "code",
   "execution_count": 70,
   "metadata": {},
   "outputs": [
    {
     "data": {
      "text/plain": [
       "<seaborn.axisgrid.FacetGrid at 0x1851c8c0888>"
      ]
     },
     "execution_count": 70,
     "metadata": {},
     "output_type": "execute_result"
    },
    {
     "data": {
      "image/png": "[encoded data removed]",
      "text/plain": [
       "<Figure size 1440x720 with 1 Axes>"
      ]
     },
     "metadata": {
      "needs_background": "light"
     },
     "output_type": "display_data"
    }
   ],
   "source": [
    "sns.catplot(x = 'WRKSTAT' , data = gss, kind = \"count\", height = 10,aspect = 2)"
   ]
  },
  {
   "cell_type": "code",
   "execution_count": 74,
   "metadata": {},
   "outputs": [
    {
     "data": {
      "text/plain": [
       "<seaborn.axisgrid.FacetGrid at 0x18519602388>"
      ]
     },
     "execution_count": 74,
     "metadata": {},
     "output_type": "execute_result"
    },
    {
     "data": {
      "image/png": "[encoded data removed]",
      "text/plain": [
       "<Figure size 2592x864 with 6 Axes>"
      ]
     },
     "metadata": {
      "needs_background": "light"
     },
     "output_type": "display_data"
    }
   ],
   "source": [
    "sns.catplot(x = 'WRKSTAT' , data = gss, kind = \"count\", height = 6,aspect = 2, row = \"SEX\", col = \"RACE\")"
   ]
  },
  {
   "cell_type": "code",
   "execution_count": null,
   "metadata": {},
   "outputs": [],
   "source": []
  },
  {
   "cell_type": "code",
   "execution_count": null,
   "metadata": {},
   "outputs": [],
   "source": []
  },
  {
   "cell_type": "code",
   "execution_count": null,
   "metadata": {},
   "outputs": [],
   "source": []
  }
 ],
 "metadata": {
  "kernelspec": {
   "display_name": "Python 3",
   "language": "python",
   "name": "python3"
  },
  "language_info": {
   "codemirror_mode": {
    "name": "ipython",
    "version": 3
   },
   "file_extension": ".py",
   "mimetype": "text/x-python",
   "name": "python",
   "nbconvert_exporter": "python",
   "pygments_lexer": "ipython3",
   "version": "3.7.9"
  }
 },
 "nbformat": 4,
 "nbformat_minor": 4
}
