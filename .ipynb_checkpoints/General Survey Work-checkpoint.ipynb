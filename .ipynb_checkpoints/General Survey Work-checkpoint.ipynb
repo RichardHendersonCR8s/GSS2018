{
 "cells": [
  {
   "cell_type": "code",
   "execution_count": 6,
   "metadata": {},
   "outputs": [
    {
     "name": "stderr",
     "output_type": "stream",
     "text": [
      "Matplotlib is building the font cache; this may take a moment.\n"
     ]
    }
   ],
   "source": [
    "import pandas as pd\n",
    "import seaborn as sns\n",
    "import matplotlib.pyplot as plt\n",
    "\n",
    "%matplotlib inline "
   ]
  },
  {
   "cell_type": "code",
   "execution_count": 3,
   "metadata": {},
   "outputs": [],
   "source": [
    "gss = pd.read_spss(\"GSS2018.sav\")"
   ]
  },
  {
   "cell_type": "code",
   "execution_count": 4,
   "metadata": {},
   "outputs": [
    {
     "data": {
      "text/html": [
       "<div>\n",
       "<style scoped>\n",
       "    .dataframe tbody tr th:only-of-type {\n",
       "        vertical-align: middle;\n",
       "    }\n",
       "\n",
       "    .dataframe tbody tr th {\n",
       "        vertical-align: top;\n",
       "    }\n",
       "\n",
       "    .dataframe thead th {\n",
       "        text-align: right;\n",
       "    }\n",
       "</style>\n",
       "<table border=\"1\" class=\"dataframe\">\n",
       "  <thead>\n",
       "    <tr style=\"text-align: right;\">\n",
       "      <th></th>\n",
       "      <th>ABANY</th>\n",
       "      <th>ABDEFECT</th>\n",
       "      <th>ABFELEGL</th>\n",
       "      <th>ABHELP1</th>\n",
       "      <th>ABHELP2</th>\n",
       "      <th>ABHELP3</th>\n",
       "      <th>ABHELP4</th>\n",
       "      <th>ABHLTH</th>\n",
       "      <th>ABINSPAY</th>\n",
       "      <th>ABMEDGOV1</th>\n",
       "      <th>...</th>\n",
       "      <th>XMARSEX</th>\n",
       "      <th>XMARSEX1</th>\n",
       "      <th>XMOVIE</th>\n",
       "      <th>XNORCSIZ</th>\n",
       "      <th>YEAR</th>\n",
       "      <th>YEARSJOB</th>\n",
       "      <th>YEARSUSA</th>\n",
       "      <th>YEARVAL</th>\n",
       "      <th>YOUSUP</th>\n",
       "      <th>ZODIAC</th>\n",
       "    </tr>\n",
       "  </thead>\n",
       "  <tbody>\n",
       "    <tr>\n",
       "      <th>0</th>\n",
       "      <td>NO</td>\n",
       "      <td>YES</td>\n",
       "      <td>NaN</td>\n",
       "      <td>Yes</td>\n",
       "      <td>Yes</td>\n",
       "      <td>Yes</td>\n",
       "      <td>Yes</td>\n",
       "      <td>YES</td>\n",
       "      <td>People should be able</td>\n",
       "      <td>The government should decide</td>\n",
       "      <td>...</td>\n",
       "      <td>ALWAYS WRONG</td>\n",
       "      <td>ALWAYS WRONG</td>\n",
       "      <td>NaN</td>\n",
       "      <td>UNINC,MED CITY</td>\n",
       "      <td>2018.0</td>\n",
       "      <td>1</td>\n",
       "      <td>NaN</td>\n",
       "      <td>NaN</td>\n",
       "      <td>45.0</td>\n",
       "      <td>VIRGO</td>\n",
       "    </tr>\n",
       "    <tr>\n",
       "      <th>1</th>\n",
       "      <td>YES</td>\n",
       "      <td>YES</td>\n",
       "      <td>It depends</td>\n",
       "      <td>No</td>\n",
       "      <td>No</td>\n",
       "      <td>No</td>\n",
       "      <td>No</td>\n",
       "      <td>YES</td>\n",
       "      <td>People should not be able</td>\n",
       "      <td>NaN</td>\n",
       "      <td>...</td>\n",
       "      <td>ALWAYS WRONG</td>\n",
       "      <td>NaN</td>\n",
       "      <td>NO</td>\n",
       "      <td>UNINC,MED CITY</td>\n",
       "      <td>2018.0</td>\n",
       "      <td>NaN</td>\n",
       "      <td>NaN</td>\n",
       "      <td>NaN</td>\n",
       "      <td>NaN</td>\n",
       "      <td>AQUARIUS</td>\n",
       "    </tr>\n",
       "    <tr>\n",
       "      <th>2</th>\n",
       "      <td>NaN</td>\n",
       "      <td>NaN</td>\n",
       "      <td>NaN</td>\n",
       "      <td>Yes</td>\n",
       "      <td>No</td>\n",
       "      <td>Yes</td>\n",
       "      <td>Yes</td>\n",
       "      <td>NaN</td>\n",
       "      <td>People should not be able</td>\n",
       "      <td>A woman and her medical professional should de...</td>\n",
       "      <td>...</td>\n",
       "      <td>NaN</td>\n",
       "      <td>ALWAYS WRONG</td>\n",
       "      <td>NO</td>\n",
       "      <td>UNINC,MED CITY</td>\n",
       "      <td>2018.0</td>\n",
       "      <td>15</td>\n",
       "      <td>NaN</td>\n",
       "      <td>NaN</td>\n",
       "      <td>3.0</td>\n",
       "      <td>ARIES</td>\n",
       "    </tr>\n",
       "    <tr>\n",
       "      <th>3</th>\n",
       "      <td>NaN</td>\n",
       "      <td>NaN</td>\n",
       "      <td>Should</td>\n",
       "      <td>Yes</td>\n",
       "      <td>Yes</td>\n",
       "      <td>Yes</td>\n",
       "      <td>Yes</td>\n",
       "      <td>NaN</td>\n",
       "      <td>People should be able</td>\n",
       "      <td>NaN</td>\n",
       "      <td>...</td>\n",
       "      <td>NaN</td>\n",
       "      <td>NaN</td>\n",
       "      <td>NO</td>\n",
       "      <td>UNINC,MED CITY</td>\n",
       "      <td>2018.0</td>\n",
       "      <td>25</td>\n",
       "      <td>NaN</td>\n",
       "      <td>NaN</td>\n",
       "      <td>10.0</td>\n",
       "      <td>ARIES</td>\n",
       "    </tr>\n",
       "    <tr>\n",
       "      <th>4</th>\n",
       "      <td>NO</td>\n",
       "      <td>YES</td>\n",
       "      <td>NaN</td>\n",
       "      <td>No</td>\n",
       "      <td>No</td>\n",
       "      <td>No</td>\n",
       "      <td>Yes</td>\n",
       "      <td>YES</td>\n",
       "      <td>People should not be able</td>\n",
       "      <td>NaN</td>\n",
       "      <td>...</td>\n",
       "      <td>ALWAYS WRONG</td>\n",
       "      <td>NaN</td>\n",
       "      <td>NO</td>\n",
       "      <td>UNINC,MED CITY</td>\n",
       "      <td>2018.0</td>\n",
       "      <td>NaN</td>\n",
       "      <td>NaN</td>\n",
       "      <td>NaN</td>\n",
       "      <td>NaN</td>\n",
       "      <td>CANCER</td>\n",
       "    </tr>\n",
       "    <tr>\n",
       "      <th>5</th>\n",
       "      <td>YES</td>\n",
       "      <td>YES</td>\n",
       "      <td>Should</td>\n",
       "      <td>Yes</td>\n",
       "      <td>Yes</td>\n",
       "      <td>Yes</td>\n",
       "      <td>Yes</td>\n",
       "      <td>YES</td>\n",
       "      <td>People should be able</td>\n",
       "      <td>NaN</td>\n",
       "      <td>...</td>\n",
       "      <td>ALMST ALWAYS WRG</td>\n",
       "      <td>ALMOST ALWAYS WRONG</td>\n",
       "      <td>NaN</td>\n",
       "      <td>UNINC,MED CITY</td>\n",
       "      <td>2018.0</td>\n",
       "      <td>NaN</td>\n",
       "      <td>NaN</td>\n",
       "      <td>NaN</td>\n",
       "      <td>NaN</td>\n",
       "      <td>SCORPIO</td>\n",
       "    </tr>\n",
       "    <tr>\n",
       "      <th>6</th>\n",
       "      <td>YES</td>\n",
       "      <td>YES</td>\n",
       "      <td>It depends</td>\n",
       "      <td>Yes</td>\n",
       "      <td>No</td>\n",
       "      <td>Yes</td>\n",
       "      <td>Yes</td>\n",
       "      <td>YES</td>\n",
       "      <td>People should be able</td>\n",
       "      <td>NaN</td>\n",
       "      <td>...</td>\n",
       "      <td>ALWAYS WRONG</td>\n",
       "      <td>NaN</td>\n",
       "      <td>NO</td>\n",
       "      <td>CITY,50-250000</td>\n",
       "      <td>2018.0</td>\n",
       "      <td>2</td>\n",
       "      <td>NaN</td>\n",
       "      <td>NaN</td>\n",
       "      <td>NaN</td>\n",
       "      <td>LEO</td>\n",
       "    </tr>\n",
       "    <tr>\n",
       "      <th>7</th>\n",
       "      <td>NO</td>\n",
       "      <td>YES</td>\n",
       "      <td>NaN</td>\n",
       "      <td>Yes</td>\n",
       "      <td>No</td>\n",
       "      <td>Yes</td>\n",
       "      <td>Yes</td>\n",
       "      <td>YES</td>\n",
       "      <td>NaN</td>\n",
       "      <td>A woman and her medical professional should de...</td>\n",
       "      <td>...</td>\n",
       "      <td>ALWAYS WRONG</td>\n",
       "      <td>NaN</td>\n",
       "      <td>NO</td>\n",
       "      <td>CITY,50-250000</td>\n",
       "      <td>2018.0</td>\n",
       "      <td>5</td>\n",
       "      <td>NaN</td>\n",
       "      <td>NaN</td>\n",
       "      <td>14.0</td>\n",
       "      <td>PISCES</td>\n",
       "    </tr>\n",
       "    <tr>\n",
       "      <th>8</th>\n",
       "      <td>NaN</td>\n",
       "      <td>NaN</td>\n",
       "      <td>It depends</td>\n",
       "      <td>Yes</td>\n",
       "      <td>Yes</td>\n",
       "      <td>Yes</td>\n",
       "      <td>Yes</td>\n",
       "      <td>NaN</td>\n",
       "      <td>People should be able</td>\n",
       "      <td>A woman and her medical professional should de...</td>\n",
       "      <td>...</td>\n",
       "      <td>NaN</td>\n",
       "      <td>ALWAYS WRONG</td>\n",
       "      <td>NO</td>\n",
       "      <td>CITY,50-250000</td>\n",
       "      <td>2018.0</td>\n",
       "      <td>6-11.9 MONTHS</td>\n",
       "      <td>NaN</td>\n",
       "      <td>NaN</td>\n",
       "      <td>NaN</td>\n",
       "      <td>NaN</td>\n",
       "    </tr>\n",
       "    <tr>\n",
       "      <th>9</th>\n",
       "      <td>NaN</td>\n",
       "      <td>NaN</td>\n",
       "      <td>NaN</td>\n",
       "      <td>Yes</td>\n",
       "      <td>No</td>\n",
       "      <td>No</td>\n",
       "      <td>Yes</td>\n",
       "      <td>NaN</td>\n",
       "      <td>People should not be able</td>\n",
       "      <td>NaN</td>\n",
       "      <td>...</td>\n",
       "      <td>NaN</td>\n",
       "      <td>NaN</td>\n",
       "      <td>NO</td>\n",
       "      <td>SUBURB, MED CITY</td>\n",
       "      <td>2018.0</td>\n",
       "      <td>11</td>\n",
       "      <td>NaN</td>\n",
       "      <td>NaN</td>\n",
       "      <td>NaN</td>\n",
       "      <td>SCORPIO</td>\n",
       "    </tr>\n",
       "  </tbody>\n",
       "</table>\n",
       "<p>10 rows × 1065 columns</p>\n",
       "</div>"
      ],
      "text/plain": [
       "  ABANY ABDEFECT    ABFELEGL ABHELP1 ABHELP2 ABHELP3 ABHELP4 ABHLTH  \\\n",
       "0    NO      YES         NaN     Yes     Yes     Yes     Yes    YES   \n",
       "1   YES      YES  It depends      No      No      No      No    YES   \n",
       "2   NaN      NaN         NaN     Yes      No     Yes     Yes    NaN   \n",
       "3   NaN      NaN      Should     Yes     Yes     Yes     Yes    NaN   \n",
       "4    NO      YES         NaN      No      No      No     Yes    YES   \n",
       "5   YES      YES      Should     Yes     Yes     Yes     Yes    YES   \n",
       "6   YES      YES  It depends     Yes      No     Yes     Yes    YES   \n",
       "7    NO      YES         NaN     Yes      No     Yes     Yes    YES   \n",
       "8   NaN      NaN  It depends     Yes     Yes     Yes     Yes    NaN   \n",
       "9   NaN      NaN         NaN     Yes      No      No     Yes    NaN   \n",
       "\n",
       "                    ABINSPAY  \\\n",
       "0      People should be able   \n",
       "1  People should not be able   \n",
       "2  People should not be able   \n",
       "3      People should be able   \n",
       "4  People should not be able   \n",
       "5      People should be able   \n",
       "6      People should be able   \n",
       "7                        NaN   \n",
       "8      People should be able   \n",
       "9  People should not be able   \n",
       "\n",
       "                                           ABMEDGOV1  ...           XMARSEX  \\\n",
       "0                       The government should decide  ...      ALWAYS WRONG   \n",
       "1                                                NaN  ...      ALWAYS WRONG   \n",
       "2  A woman and her medical professional should de...  ...               NaN   \n",
       "3                                                NaN  ...               NaN   \n",
       "4                                                NaN  ...      ALWAYS WRONG   \n",
       "5                                                NaN  ...  ALMST ALWAYS WRG   \n",
       "6                                                NaN  ...      ALWAYS WRONG   \n",
       "7  A woman and her medical professional should de...  ...      ALWAYS WRONG   \n",
       "8  A woman and her medical professional should de...  ...               NaN   \n",
       "9                                                NaN  ...               NaN   \n",
       "\n",
       "              XMARSEX1 XMOVIE          XNORCSIZ    YEAR       YEARSJOB  \\\n",
       "0         ALWAYS WRONG    NaN    UNINC,MED CITY  2018.0              1   \n",
       "1                  NaN     NO    UNINC,MED CITY  2018.0            NaN   \n",
       "2         ALWAYS WRONG     NO    UNINC,MED CITY  2018.0             15   \n",
       "3                  NaN     NO    UNINC,MED CITY  2018.0             25   \n",
       "4                  NaN     NO    UNINC,MED CITY  2018.0            NaN   \n",
       "5  ALMOST ALWAYS WRONG    NaN    UNINC,MED CITY  2018.0            NaN   \n",
       "6                  NaN     NO    CITY,50-250000  2018.0              2   \n",
       "7                  NaN     NO    CITY,50-250000  2018.0              5   \n",
       "8         ALWAYS WRONG     NO    CITY,50-250000  2018.0  6-11.9 MONTHS   \n",
       "9                  NaN     NO  SUBURB, MED CITY  2018.0             11   \n",
       "\n",
       "  YEARSUSA YEARVAL YOUSUP    ZODIAC  \n",
       "0      NaN     NaN   45.0     VIRGO  \n",
       "1      NaN     NaN    NaN  AQUARIUS  \n",
       "2      NaN     NaN    3.0     ARIES  \n",
       "3      NaN     NaN   10.0     ARIES  \n",
       "4      NaN     NaN    NaN    CANCER  \n",
       "5      NaN     NaN    NaN   SCORPIO  \n",
       "6      NaN     NaN    NaN       LEO  \n",
       "7      NaN     NaN   14.0    PISCES  \n",
       "8      NaN     NaN    NaN       NaN  \n",
       "9      NaN     NaN    NaN   SCORPIO  \n",
       "\n",
       "[10 rows x 1065 columns]"
      ]
     },
     "execution_count": 4,
     "metadata": {},
     "output_type": "execute_result"
    }
   ],
   "source": [
    "gss.head(10)"
   ]
  },
  {
   "cell_type": "code",
   "execution_count": 42,
   "metadata": {},
   "outputs": [
    {
     "data": {
      "text/plain": [
       "<AxesSubplot:xlabel='JOBSECOK', ylabel='count'>"
      ]
     },
     "execution_count": 42,
     "metadata": {},
     "output_type": "execute_result"
    },
    {
     "data": {
      "image/png": "[encoded data removed]",
      "text/plain": [
       "<Figure size 432x288 with 1 Axes>"
      ]
     },
     "metadata": {
      "needs_background": "light"
     },
     "output_type": "display_data"
    }
   ],
   "source": [
    "sns.countplot(gss['JOBSECOK'])\n",
    "\n",
    "\n",
    "\n"
   ]
  },
  {
   "cell_type": "code",
   "execution_count": 70,
   "metadata": {},
   "outputs": [
    {
     "name": "stdout",
     "output_type": "stream",
     "text": [
      "Percent True for Somewhat true: 0.29323843416370104\n",
      "Percent True for nan: 0.0\n",
      "Percent True for Very true: 0.6113879003558719\n",
      "Percent True for Not at all true: 0.03202846975088968\n",
      "Percent True for Not too true: 0.06334519572953737\n"
     ]
    }
   ],
   "source": [
    "for x in gss['JOBSECOK'].unique():\n",
    "    percentage = gss['JOBSECOK'][gss['JOBSECOK'] == x].count() / gss['JOBSECOK'].count()\n",
    "    print(\"Percent True for {}: {}\".format(x ,percentage))"
   ]
  },
  {
   "cell_type": "code",
   "execution_count": 107,
   "metadata": {},
   "outputs": [],
   "source": [
    "def percoftot(data,series,hue = False):\n",
    "\n",
    "    if hue == False:\n",
    "        for x in data[series].unique():\n",
    "            percentage = data[series][data[series] == x].count() / data[series].count()\n",
    "            print(\"Percent True for {}: {}\".format(x ,percentage))\n",
    "            \n",
    "    else:\n",
    "        for x in data[series].unique():\n",
    "            for y in data[hue].unique():\n",
    "                #percentage = data[series][(data[series] == x) & (data[series] == y)].count() /data[series][data[series] == y].count() \n",
    "                #print(\"Percentage True for {} and {} :{}\".format(x,y,percentage))\n",
    "                print(y, data[series][data[hue] == y].count())"
   ]
  },
  {
   "cell_type": "code",
   "execution_count": 108,
   "metadata": {},
   "outputs": [
    {
     "name": "stdout",
     "output_type": "stream",
     "text": [
      "WHITE 1001\n",
      "BLACK 231\n",
      "OTHER 173\n",
      "WHITE 1001\n",
      "BLACK 231\n",
      "OTHER 173\n",
      "WHITE 1001\n",
      "BLACK 231\n",
      "OTHER 173\n",
      "WHITE 1001\n",
      "BLACK 231\n",
      "OTHER 173\n",
      "WHITE 1001\n",
      "BLACK 231\n",
      "OTHER 173\n"
     ]
    }
   ],
   "source": [
    "percoftot(gss,'JOBSECOK',\"RACE\")"
   ]
  },
  {
   "cell_type": "code",
   "execution_count": null,
   "metadata": {},
   "outputs": [],
   "source": []
  },
  {
   "cell_type": "code",
   "execution_count": 69,
   "metadata": {},
   "outputs": [
    {
     "data": {
      "text/plain": [
       "<AxesSubplot:xlabel='JOBSECOK', ylabel='count'>"
      ]
     },
     "execution_count": 69,
     "metadata": {},
     "output_type": "execute_result"
    },
    {
     "data": {
      "image/png": "[encoded data removed]",
      "text/plain": [
       "<Figure size 432x288 with 1 Axes>"
      ]
     },
     "metadata": {
      "needs_background": "light"
     },
     "output_type": "display_data"
    }
   ],
   "source": [
    "sns.countplot(gss['JOBSECOK'], hue = gss[\"RACE\"])"
   ]
  },
  {
   "cell_type": "code",
   "execution_count": null,
   "metadata": {},
   "outputs": [],
   "source": [
    "\n",
    "\n",
    "for x in gss['JOBSECOK'].unique():\n",
    "    percentage = gss['JOBSECOK'][gss['JOBSECOK'] == x].count() / gss['JOBSECOK'].count()\n",
    "    print(\"Percent True for {}: {}\".format(x ,percentage))"
   ]
  },
  {
   "cell_type": "code",
   "execution_count": 19,
   "metadata": {},
   "outputs": [
    {
     "data": {
      "text/plain": [
       "<AxesSubplot:xlabel='JOBSECOK', ylabel='count'>"
      ]
     },
     "execution_count": 19,
     "metadata": {},
     "output_type": "execute_result"
    },
    {
     "data": {
      "image/png": "[encoded data removed]",
      "text/plain": [
       "<Figure size 432x288 with 1 Axes>"
      ]
     },
     "metadata": {
      "needs_background": "light"
     },
     "output_type": "display_data"
    }
   ],
   "source": [
    "sns.countplot(gss['JOBSECOK'], hue = gss[\"SEX\"])"
   ]
  },
  {
   "cell_type": "code",
   "execution_count": 33,
   "metadata": {},
   "outputs": [
    {
     "data": {
      "text/plain": [
       "<seaborn.axisgrid.FacetGrid at 0x1e3314b2a88>"
      ]
     },
     "execution_count": 33,
     "metadata": {},
     "output_type": "execute_result"
    },
    {
     "data": {
      "image/png": "[encoded data removed]",
      "text/plain": [
       "<Figure size 790.375x360 with 2 Axes>"
      ]
     },
     "metadata": {
      "needs_background": "light"
     },
     "output_type": "display_data"
    }
   ],
   "source": [
    "sns.catplot(y = 'JOBSECOK', hue = \"RACE\", data = gss , col = \"SEX\", kind = \"count\")"
   ]
  },
  {
   "cell_type": "code",
   "execution_count": 34,
   "metadata": {},
   "outputs": [
    {
     "data": {
      "text/plain": [
       "<seaborn.axisgrid.FacetGrid at 0x1e3313109c8>"
      ]
     },
     "execution_count": 34,
     "metadata": {},
     "output_type": "execute_result"
    },
    {
     "data": {
      "image/png": "[encoded data removed]",
      "text/plain": [
       "<Figure size 1155.25x360 with 3 Axes>"
      ]
     },
     "metadata": {
      "needs_background": "light"
     },
     "output_type": "display_data"
    }
   ],
   "source": [
    "sns.catplot(y = 'JOBSECOK', hue = \"SEX\", data = gss , col = \"RACE\", kind = \"count\")"
   ]
  },
  {
   "cell_type": "code",
   "execution_count": 39,
   "metadata": {},
   "outputs": [
    {
     "data": {
      "text/plain": [
       "<seaborn.axisgrid.FacetGrid at 0x1e331a00048>"
      ]
     },
     "execution_count": 39,
     "metadata": {},
     "output_type": "execute_result"
    },
    {
     "data": {
      "image/png": "[encoded data removed]",
      "text/plain": [
       "<Figure size 360x360 with 1 Axes>"
      ]
     },
     "metadata": {
      "needs_background": "light"
     },
     "output_type": "display_data"
    }
   ],
   "source": [
    "sns.catplot(x = \"WRKSLF\" , data = gss , kind = \"count\" )"
   ]
  },
  {
   "cell_type": "code",
   "execution_count": 40,
   "metadata": {},
   "outputs": [
    {
     "data": {
      "text/plain": [
       "<seaborn.axisgrid.FacetGrid at 0x1e3326e59c8>"
      ]
     },
     "execution_count": 40,
     "metadata": {},
     "output_type": "execute_result"
    },
    {
     "data": {
      "image/png": "[encoded data removed]",
      "text/plain": [
       "<Figure size 435.25x360 with 1 Axes>"
      ]
     },
     "metadata": {
      "needs_background": "light"
     },
     "output_type": "display_data"
    }
   ],
   "source": [
    "sns.catplot(x = \"WRKSLF\" , data = gss , kind = \"count\" , hue = \"SEX\")"
   ]
  },
  {
   "cell_type": "code",
   "execution_count": 41,
   "metadata": {},
   "outputs": [
    {
     "data": {
      "text/plain": [
       "<seaborn.axisgrid.FacetGrid at 0x1e331a4d948>"
      ]
     },
     "execution_count": 41,
     "metadata": {},
     "output_type": "execute_result"
    },
    {
     "data": {
      "image/png": "[encoded data removed]",
      "text/plain": [
       "<Figure size 430.375x360 with 1 Axes>"
      ]
     },
     "metadata": {
      "needs_background": "light"
     },
     "output_type": "display_data"
    }
   ],
   "source": [
    "sns.catplot(x = \"WRKSLF\" , data = gss , kind = \"count\" , hue = \"RACE\")"
   ]
  },
  {
   "cell_type": "code",
   "execution_count": null,
   "metadata": {},
   "outputs": [],
   "source": []
  }
 ],
 "metadata": {
  "kernelspec": {
   "display_name": "Python 3",
   "language": "python",
   "name": "python3"
  },
  "language_info": {
   "codemirror_mode": {
    "name": "ipython",
    "version": 3
   },
   "file_extension": ".py",
   "mimetype": "text/x-python",
   "name": "python",
   "nbconvert_exporter": "python",
   "pygments_lexer": "ipython3",
   "version": "3.7.9"
  }
 },
 "nbformat": 4,
 "nbformat_minor": 2
}
